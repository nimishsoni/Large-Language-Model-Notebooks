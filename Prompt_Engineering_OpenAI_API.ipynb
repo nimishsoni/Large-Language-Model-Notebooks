{
  "nbformat": 4,
  "nbformat_minor": 0,
  "metadata": {
    "colab": {
      "provenance": [],
      "authorship_tag": "ABX9TyNdmNlz1P21Q4IhocVIBIz6"
    },
    "kernelspec": {
      "name": "python3",
      "display_name": "Python 3"
    },
    "language_info": {
      "name": "python"
    }
  },
  "cells": [
    {
      "cell_type": "markdown",
      "source": [
        "\n",
        "\n",
        "## Prompt Engineering with OpenAI API\n",
        "\n"
      ],
      "metadata": {
        "id": "r11f5Uhkapwa"
      }
    },
    {
      "cell_type": "code",
      "execution_count": 15,
      "metadata": {
        "id": "hVJR91-iajKT"
      },
      "outputs": [],
      "source": [
        "!pip install -q openai==1.1.1"
      ]
    },
    {
      "cell_type": "code",
      "source": [
        "import openai\n",
        "\n",
        "openai.api_key=\"your-api-key\""
      ],
      "metadata": {
        "id": "6A3sIfPba5b0"
      },
      "execution_count": 16,
      "outputs": []
    },
    {
      "cell_type": "code",
      "source": [
        "#Call openAI model\n",
        "\n",
        "def openai_response(user_message, context, temp = 1):\n",
        "  newcontext = context.copy()\n",
        "  newcontext.append({'role':'user', 'content':'question: ' + user_message})\n",
        "\n",
        "  response = openai.chat.completions.create(model = 'gpt-4-turbo', messages = newcontext, temperature = temp)\n",
        "\n",
        "  return (response.choices[0].message.content)"
      ],
      "metadata": {
        "id": "Ab-xUrF9cl1a"
      },
      "execution_count": 30,
      "outputs": []
    },
    {
      "cell_type": "code",
      "source": [
        "context_user = [{'role':'system', 'content':'You are an expert in tennis'}]\n",
        "\n",
        "print(openai_response('who won the Wibledon 2019', context_user))"
      ],
      "metadata": {
        "colab": {
          "base_uri": "https://localhost:8080/"
        },
        "id": "I8zivSRcjc3n",
        "outputId": "a6c1eee9-157b-4bab-9802-66d01aa2b417"
      },
      "execution_count": 23,
      "outputs": [
        {
          "output_type": "stream",
          "name": "stdout",
          "text": [
            "The Wimbledon Championships in 2019 were claimed by Novak Djokovic in the Men's Singles category and Simona Halep in the Women's Singles category.\n"
          ]
        }
      ]
    },
    {
      "cell_type": "code",
      "source": [
        "# One-shot response\n",
        "context_user = [{'role':'system', 'content':\"\"\"You are an expert in Tennis.\n",
        "     Who won the 2019 wimbledon championship?\n",
        "     Men's Singles: Novak Djokovic.\n",
        "     Women's Singles: Simona Halep.\"\"\"}]\n",
        "\n",
        "print(openai_response('who won the 2015 australian open tennis championship', context_user))"
      ],
      "metadata": {
        "colab": {
          "base_uri": "https://localhost:8080/"
        },
        "id": "8faH8UEwlscF",
        "outputId": "9b7b551e-a84c-4ad7-d95c-ba49ffb6f52a"
      },
      "execution_count": 26,
      "outputs": [
        {
          "output_type": "stream",
          "name": "stdout",
          "text": [
            "Men's Singles: Novak Djokovic\n",
            "Women's Singles: Serena Williams\n"
          ]
        }
      ]
    },
    {
      "cell_type": "code",
      "source": [
        "# One-shot response\n",
        "context_user = [{'role':'system', 'content':\"\"\"You are an expert in Tennis.\n",
        "     Who won the 2019 wimbledon championship?\n",
        "     Men's Singles: Novak Djokovic.\n",
        "     Women's Singles: Simona Halep.\n",
        "\n",
        "     Who won the 2015 Australian Open tennis championship?\n",
        "     Men's Singles: Novak Djokovic.\n",
        "     Women's Singles: Serena Williams.\"\"\"}]\n",
        "\n",
        "print(openai_response('who won the 2013 French open tennis championship', context_user))"
      ],
      "metadata": {
        "colab": {
          "base_uri": "https://localhost:8080/"
        },
        "id": "mqbtr7yJE_Ys",
        "outputId": "0fdbeea9-c878-42ea-bb98-bf4ebf254c21"
      },
      "execution_count": 29,
      "outputs": [
        {
          "output_type": "stream",
          "name": "stdout",
          "text": [
            "Men's Singles: Rafael Nadal.\n",
            "     Women's Singles: Serena Williams.\n"
          ]
        }
      ]
    },
    {
      "cell_type": "code",
      "source": [
        "context_user = [\n",
        "    {'role':'system', 'content':\n",
        "     \"\"\"You are an expert in reviewing product opinions and classifying them as positive or negative.\n",
        "\n",
        "     It fulfilled its function perfectly, I think the price is fair, I would buy it again.\n",
        "     Setiment: Positive\n",
        "\n",
        "     It didn't work bad, but I wouldn't buy it again, maybe it's a bit expensive for what it does.\n",
        "     Sentiment: Negative.\n",
        "\n",
        "     I wouldn't know what to say, my son uses it, but he doesn't love it.\n",
        "     Sentiment: Neutral\n",
        "     \"\"\"}\n",
        "]\n",
        "print(openai_response(\"I'm not going to return it, but I don't plan to buy it again.\", context_user))"
      ],
      "metadata": {
        "colab": {
          "base_uri": "https://localhost:8080/"
        },
        "id": "OOyngxw6njmS",
        "outputId": "ed9dc2d4-8de2-4849-86c6-a3f2aae8d7ce"
      },
      "execution_count": 28,
      "outputs": [
        {
          "output_type": "stream",
          "name": "stdout",
          "text": [
            "Sentiment: Negative\n"
          ]
        }
      ]
    },
    {
      "cell_type": "markdown",
      "source": [
        "## Creative writing with change in temperature values\n",
        "\n",
        "\n"
      ],
      "metadata": {
        "id": "EwMsAJpvJ43v"
      }
    },
    {
      "cell_type": "code",
      "source": [
        "context_user = [{'role':'system', 'content':'You are a writer'}]\n",
        "\n",
        "print(openai_response('write an article on Indian Democracy', context_user, temp = 0.2))"
      ],
      "metadata": {
        "colab": {
          "base_uri": "https://localhost:8080/"
        },
        "id": "GXS6utmuBw4D",
        "outputId": "fab43e67-a180-4d1b-b13f-668d002c26cd"
      },
      "execution_count": 31,
      "outputs": [
        {
          "output_type": "stream",
          "name": "stdout",
          "text": [
            "Title: Indian Democracy: A Vibrant Tapestry of Diversity and Challenges\n",
            "\n",
            "Introduction:\n",
            "India, the world's largest democracy, stands as a testament to the power of diversity and the resilience of democratic values. With a population of over 1.3 billion people, India's democratic system has successfully navigated through numerous challenges, making it a unique and fascinating case study for political scientists and enthusiasts alike. This article aims to explore the key features, achievements, and challenges of Indian democracy, shedding light on its vibrant tapestry.\n",
            "\n",
            "Historical Context:\n",
            "India's journey towards democracy began with its independence from British colonial rule in 1947. The framers of the Indian Constitution, led by Dr. B.R. Ambedkar, envisioned a democratic system that would guarantee fundamental rights, equality, and social justice for all citizens. The Constitution, adopted on January 26, 1950, laid the foundation for a democratic republic, with universal adult suffrage and a multi-tiered system of governance.\n",
            "\n",
            "Key Features of Indian Democracy:\n",
            "1. Universal Adult Suffrage: Indian democracy ensures that every citizen above the age of 18 has the right to vote, irrespective of caste, creed, religion, or gender. This inclusivity allows for diverse voices to be heard and ensures representation of various interests.\n",
            "\n",
            "2. Federal Structure: India follows a federal system of governance, where power is divided between the central government and the states. This structure allows for regional autonomy and accommodates the diverse cultural, linguistic, and socio-economic identities within the country.\n",
            "\n",
            "3. Independent Judiciary: The Indian judiciary acts as the guardian of the Constitution, ensuring the protection of citizens' rights and liberties. The Supreme Court, with its power of judicial review, plays a crucial role in upholding the principles of justice, equality, and the rule of law.\n",
            "\n",
            "4. Free and Fair Elections: India's electoral system is renowned for its scale and complexity. The Election Commission of India, an independent body, conducts elections at regular intervals, ensuring a level playing field for political parties and candidates. The use of electronic voting machines has further enhanced the efficiency and transparency of the electoral process.\n",
            "\n",
            "Achievements of Indian Democracy:\n",
            "1. Peaceful Transitions of Power: Since its independence, India has witnessed multiple peaceful transitions of power through democratic elections. This remarkable achievement demonstrates the maturity and stability of the Indian democratic system.\n",
            "\n",
            "2. Social and Political Empowerment: Indian democracy has played a pivotal role in empowering marginalized sections of society, such as Dalits, women, and religious minorities. Affirmative action policies, reservation systems, and grassroots movements have contributed to their increased representation in politics and public life.\n",
            "\n",
            "Challenges and Areas of Improvement:\n",
            "1. Corruption: Corruption remains a significant challenge in Indian democracy. Despite efforts to combat it, corruption at various levels of government hampers development, erodes public trust, and undermines the principles of democracy.\n",
            "\n",
            "2. Communalism and Identity Politics: The diverse nature of Indian society often leads to the politicization of religious, caste, and regional identities. This can sometimes result in communal tensions and polarization, posing a threat to the secular fabric of the nation.\n",
            "\n",
            "3. Socio-economic Inequality: India's democratic journey has not been able to fully address the deep-rooted socio-economic disparities within the country. The challenge of poverty, unequal access to education, healthcare, and basic amenities persist, requiring sustained efforts to bridge the gap.\n",
            "\n",
            "Conclusion:\n",
            "Indian democracy, with its rich tapestry of diversity and challenges, continues to evolve and adapt to the changing needs of its people. The achievements of peaceful transitions of power, social empowerment, and the protection of fundamental rights are commendable. However, the challenges of corruption, communalism, and socio-economic inequality demand continuous efforts to strengthen the democratic fabric of the nation. As India moves forward, it is crucial to uphold the values of inclusivity, justice, and equality, ensuring that the democratic spirit remains the guiding force for a prosperous and harmonious future.\n"
          ]
        }
      ]
    },
    {
      "cell_type": "markdown",
      "source": [
        "#### As seen, temperature of 1.0 (default) results in far better vocabulary usage and creative article compared to temperature value of 0.2"
      ],
      "metadata": {
        "id": "oQJcifXbKPiL"
      }
    },
    {
      "cell_type": "code",
      "source": [
        "context_user = [{'role':'system', 'content':'You are a writer'}]\n",
        "\n",
        "print(openai_response('write an article on Indian Democracy', context_user, temp = 1.0))"
      ],
      "metadata": {
        "colab": {
          "base_uri": "https://localhost:8080/"
        },
        "id": "8ORs9Z2aJQER",
        "outputId": "b7a56c44-30fd-42b0-d996-d815728889a5"
      },
      "execution_count": 32,
      "outputs": [
        {
          "output_type": "stream",
          "name": "stdout",
          "text": [
            "Title: The Vibrant Tapestry of Indian Democracy: A Progressive Beacon for the World\n",
            "\n",
            "Introduction:\n",
            "India, the world's largest democracy, stands as a testament to the harmonious coexistence of diverse cultures, religions, languages, and ideologies. Since its independence in 1947, India has embraced the principles of democracy and aspired to build a just, inclusive, and prosperous nation. Though the journey has been imbued with challenges, Indian democracy has managed to remain resilient, continually evolving and shaping the nation's destiny. This article explores the key aspects of Indian democracy, highlighting its achievements, challenges, and its potential as a beacon of hope for the world.\n",
            "\n",
            "1. The Foundation of Indian Democracy:\n",
            "India's democratic foundations are entrenched in the Constitution adopted on January 26, 1950. The Constitution, drafted by a visionary assembly, enshrines fundamental rights and liberties while also establishing a parliamentary system that ensures governance by the people, for the people. The universal adult suffrage and periodic elections have empowered the Indian public to participate in decision-making, fostering a sense of ownership and accountability.\n",
            "\n",
            "2. Envisioning a Secular and Inclusive Society:\n",
            "One of the defining features of Indian democracy is its commitment to secularism and inclusive governance. With a population comprising diverse religions, languages, and castes, India embraces the protection of religious, linguistic, and cultural diversity as fundamental rights. The state functions independent of religious affiliations, fostering social cohesion, and enabling citizens to partake equally in public and political life.\n",
            "\n",
            "3. Strong Institutions and Independent Judiciary:\n",
            "The Indian democratic system boasts robust institutions that safeguard the rule of law, protect individual rights, and provide checks and balances. The judiciary, one of the pillars of Indian democracy, pronounces judgments that can significantly impact governance, ensuring accountability even at the highest levels of power. These independent institutions stand as bulwarks against authoritarianism, protecting the democratic fabric of the nation.\n",
            "\n",
            "4. Grassroots Democracy and Local Governance:\n",
            "India's democracy extends to the grassroots level, with a decentralized system of governance. The institution of Panchayats (local self-governments) ensures citizen participation and decision-making at the village level, empowering rural communities. Through their elected representatives, citizens have a say in local development projects, resource allocation, and social welfare initiatives, creating a more inclusive and accountable governance system.\n",
            "\n",
            "5. Challenges and Imperfections:\n",
            "Despite its remarkable strides, Indian democracy faces challenges that must be addressed for its continued progress. Issues like political corruption, criminalization of politics, and deep-rooted societal inequalities hinder the full realization of Indian democracy's potential. Additionally, electoral reforms, strengthening of institutions, and addressing emerging challenges in the digital age are essential for the sustenance and growth of democratic values in India.\n",
            "\n",
            "6. The Global Influence of Indian Democracy:\n",
            "Indian democracy serves as a beacon of hope and inspiration for many nations grappling with oppressive regimes and divisive ideologies. The peaceful transfer of power, freedom of expression, and respect for human rights exhibited by India exemplify the strength and resilience of its democratic system. Its potential to transform millions of lives and lift people out of poverty showcases the power of democratic ideals when embraced in their true spirit.\n",
            "\n",
            "Conclusion:\n",
            "Indian democracy, with all its achievements and challenges, remains a testament to the power of diverse people uniting under a common vision of equality, justice, and progress. As a democratic society, India aims to continuously work towards building a just and inclusive nation, empowering all citizens and ensuring their voices are heard. Indian democracy's achievements and ongoing journey offer valuable lessons and inspiration to democracies worldwide, reaffirming the power of human potential when guided by principles rooted in fairness and compassion.\n"
          ]
        }
      ]
    }
  ]
}